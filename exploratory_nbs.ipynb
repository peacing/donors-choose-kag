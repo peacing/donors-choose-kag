{
 "cells": [
  {
   "cell_type": "code",
   "execution_count": null,
   "metadata": {},
   "outputs": [],
   "source": [
    "# load packages\n",
    "import pandas as pd\n",
    "import numpy as np\n",
    "import matplotlib.pyplot as plt"
   ]
  },
  {
   "cell_type": "code",
   "execution_count": null,
   "metadata": {},
   "outputs": [],
   "source": [
    "# import data\n",
    "resources = pd.read_csv(\"data/resources.csv\")\n",
    "train = pd.read_csv(\"data/train.csv\")"
   ]
  },
  {
   "cell_type": "code",
   "execution_count": null,
   "metadata": {},
   "outputs": [],
   "source": [
    "train.head(2)"
   ]
  },
  {
   "cell_type": "code",
   "execution_count": null,
   "metadata": {},
   "outputs": [],
   "source": [
    "# number proposals in each state\n",
    "train.groupby(['school_state']).size().sort_values(ascending=False)\n",
    "\n",
    "# by age group\n",
    "train.groupby(['project_grade_category']).size().sort_values(ascending=False)\n",
    "\n",
    "# by teacher prefix\n",
    "train.groupby(['teacher_prefix']).size().sort_values(ascending=False)"
   ]
  },
  {
   "cell_type": "code",
   "execution_count": null,
   "metadata": {},
   "outputs": [],
   "source": [
    "train['project_subject_categories'] = [cat.split(',') for cat in train.project_subject_categories]\n",
    "train['project_subject_subcategories'] = [cat.split(',') for cat in train.project_subject_subcategories]"
   ]
  },
  {
   "cell_type": "code",
   "execution_count": null,
   "metadata": {},
   "outputs": [],
   "source": [
    "# unnest list\n",
    "project_subject_categories = [item.lstrip() \n",
    "                              for l in train.project_subject_categories \n",
    "                              for item in l]\n",
    "# count values!\n",
    "import collections\n",
    "collections.Counter(project_subject_categories).most_common()\n"
   ]
  },
  {
   "cell_type": "code",
   "execution_count": null,
   "metadata": {},
   "outputs": [],
   "source": [
    "# unnest list\n",
    "project_subject_subcategories = [item.lstrip() \n",
    "                              for l in train.project_subject_subcategories \n",
    "                              for item in l]\n",
    "# count values!\n",
    "import collections\n",
    "collections.Counter(project_subject_subcategories).most_common()"
   ]
  },
  {
   "cell_type": "code",
   "execution_count": null,
   "metadata": {},
   "outputs": [],
   "source": [
    "# pivot tables\n",
    "pd.crosstab(index=train['project_is_approved'],\n",
    "            columns=train['teacher_prefix'],\n",
    "            normalize = 'columns')\n",
    "\n",
    "pd.crosstab(index=train['project_is_approved'],\n",
    "            columns=train['project_grade_category'],\n",
    "            normalize = 'columns')\n",
    "\n",
    "pd.crosstab(index=train['project_subject_categories'],\n",
    "            columns=train['project_is_approved'],\n",
    "            normalize='index')"
   ]
  },
  {
   "cell_type": "code",
   "execution_count": null,
   "metadata": {},
   "outputs": [],
   "source": []
  }
 ],
 "metadata": {
  "kernelspec": {
   "display_name": "Python 3",
   "language": "python",
   "name": "python3"
  },
  "language_info": {
   "codemirror_mode": {
    "name": "ipython",
    "version": 3
   },
   "file_extension": ".py",
   "mimetype": "text/x-python",
   "name": "python",
   "nbconvert_exporter": "python",
   "pygments_lexer": "ipython3",
   "version": "3.6.4"
  }
 },
 "nbformat": 4,
 "nbformat_minor": 2
}
